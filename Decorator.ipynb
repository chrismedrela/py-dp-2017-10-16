{
 "cells": [
  {
   "cell_type": "markdown",
   "metadata": {},
   "source": [
    "# Decorator (dekorator)"
   ]
  },
  {
   "cell_type": "markdown",
   "metadata": {},
   "source": [
    "## Czym dekorator nie jest?"
   ]
  },
  {
   "cell_type": "code",
   "execution_count": 1,
   "metadata": {
    "collapsed": true
   },
   "outputs": [],
   "source": [
    "class A(object):\n",
    "    @property\n",
    "    def foo(self):\n",
    "        return 42"
   ]
  },
  {
   "cell_type": "code",
   "execution_count": 2,
   "metadata": {},
   "outputs": [
    {
     "data": {
      "text/plain": [
       "42"
      ]
     },
     "execution_count": 2,
     "metadata": {},
     "output_type": "execute_result"
    }
   ],
   "source": [
    "a = A()\n",
    "a.foo"
   ]
  },
  {
   "cell_type": "markdown",
   "metadata": {},
   "source": [
    "## Ćwiczenie: Coffee Starbucks"
   ]
  },
  {
   "cell_type": "code",
   "execution_count": 4,
   "metadata": {
    "collapsed": true
   },
   "outputs": [],
   "source": [
    "class BaseCoffee(object):\n",
    "    def __init__(self, price, description):\n",
    "        self._price = price\n",
    "        self._description = description\n",
    "\n",
    "    @property\n",
    "    def price(self):\n",
    "        return self._price\n",
    "\n",
    "    @property\n",
    "    def description(self):\n",
    "        return self._description\n",
    "    \n",
    "    def prepare(self):\n",
    "        pass"
   ]
  },
  {
   "cell_type": "code",
   "execution_count": 5,
   "metadata": {
    "collapsed": true
   },
   "outputs": [],
   "source": [
    "class Espresso(BaseCoffee):\n",
    "    def __init__(self, price = 4.0):\n",
    "        super().__init__(price, \"Espresso\")\n",
    "\n",
    "    def prepare(self):\n",
    "        print(\"Making a perfect espresso: 8g of coffee, 96 Celsius, 16 bar\")"
   ]
  },
  {
   "cell_type": "code",
   "execution_count": 6,
   "metadata": {
    "collapsed": true
   },
   "outputs": [],
   "source": [
    "class Cappuccino(BaseCoffee):\n",
    "    def __init__(self, price = 6.0):\n",
    "        super().__init__(price, \"Cappuccino\")\n",
    "\n",
    "    def prepare(self):\n",
    "        print(\"Making an espresso combined with a perfect milk foam\")"
   ]
  },
  {
   "cell_type": "code",
   "execution_count": 7,
   "metadata": {
    "collapsed": true
   },
   "outputs": [],
   "source": [
    "class Decorator(BaseCoffee): pass\n",
    "class Whipped(Decorator): pass  # cena 2.5\n",
    "class Whisky(Decorator): pass  # cena 10.0"
   ]
  },
  {
   "cell_type": "markdown",
   "metadata": {},
   "source": [
    "### Rozwiązanie"
   ]
  },
  {
   "cell_type": "code",
   "execution_count": 8,
   "metadata": {
    "collapsed": true
   },
   "outputs": [],
   "source": [
    "class Decorator(BaseCoffee):\n",
    "    def __init__(self, coffee, price, description):\n",
    "        super().__init__(price, description)\n",
    "        self._coffee = coffee\n",
    "\n",
    "    @property\n",
    "    def price(self):\n",
    "        return self._coffee.price + self._price\n",
    "\n",
    "    @property\n",
    "    def description(self):\n",
    "        return self._coffee.description + \" + \" + self._description\n",
    "\n",
    "    def prepare(self):\n",
    "        self._coffee.prepare()\n",
    "\n",
    "class Whipped(Decorator):\n",
    "    def __init__(self, coffee):\n",
    "        super().__init__(coffee, 2.5, \"Whipped Cream\")\n",
    "\n",
    "    def prepare(self):\n",
    "        super().prepare()\n",
    "        print(\"Adding a whipped cream\")\n",
    "\n",
    "class Whisky(Decorator):\n",
    "    def __init__(self, coffee):\n",
    "        super().__init__(coffee, 10.0, \"Whisky\")\n",
    "\n",
    "    def prepare(self):\n",
    "        super().prepare()\n",
    "        print(\"Pouring a 50cl of whisky\")"
   ]
  },
  {
   "cell_type": "markdown",
   "metadata": {},
   "source": [
    "### Oczekiwane zachowanie"
   ]
  },
  {
   "cell_type": "code",
   "execution_count": 9,
   "metadata": {
    "collapsed": true
   },
   "outputs": [],
   "source": [
    "coffee = Whisky(Whipped(Espresso()))"
   ]
  },
  {
   "cell_type": "code",
   "execution_count": 10,
   "metadata": {},
   "outputs": [
    {
     "data": {
      "text/plain": [
       "16.5"
      ]
     },
     "execution_count": 10,
     "metadata": {},
     "output_type": "execute_result"
    }
   ],
   "source": [
    "coffee.price"
   ]
  },
  {
   "cell_type": "code",
   "execution_count": 11,
   "metadata": {},
   "outputs": [
    {
     "data": {
      "text/plain": [
       "'Espresso + Whipped Cream + Whisky'"
      ]
     },
     "execution_count": 11,
     "metadata": {},
     "output_type": "execute_result"
    }
   ],
   "source": [
    "coffee.description"
   ]
  },
  {
   "cell_type": "code",
   "execution_count": 12,
   "metadata": {
    "scrolled": true
   },
   "outputs": [
    {
     "name": "stdout",
     "output_type": "stream",
     "text": [
      "Making a perfect espresso: 8g of coffee, 96 Celsius, 16 bar\n",
      "Adding a whipped cream\n",
      "Pouring a 50cl of whisky\n"
     ]
    }
   ],
   "source": [
    "coffee.prepare()"
   ]
  },
  {
   "cell_type": "markdown",
   "metadata": {},
   "source": [
    "# Builder do Starbucks"
   ]
  },
  {
   "cell_type": "code",
   "execution_count": null,
   "metadata": {
    "collapsed": true
   },
   "outputs": [],
   "source": [
    "class CoffeeBuilder(object):\n",
    "    pass"
   ]
  },
  {
   "cell_type": "markdown",
   "metadata": {},
   "source": [
    "### Oczekiwane zachowanie"
   ]
  },
  {
   "cell_type": "code",
   "execution_count": 13,
   "metadata": {},
   "outputs": [
    {
     "ename": "NameError",
     "evalue": "name 'CoffeeBuilder' is not defined",
     "output_type": "error",
     "traceback": [
      "\u001b[0;31m---------------------------------------------------------------------------\u001b[0m",
      "\u001b[0;31mNameError\u001b[0m                                 Traceback (most recent call last)",
      "\u001b[0;32m<ipython-input-13-8eae22df4da3>\u001b[0m in \u001b[0;36m<module>\u001b[0;34m()\u001b[0m\n\u001b[0;32m----> 1\u001b[0;31m \u001b[0mcoffee\u001b[0m \u001b[0;34m=\u001b[0m \u001b[0mCoffeeBuilder\u001b[0m\u001b[0;34m(\u001b[0m\u001b[0;34m)\u001b[0m     \u001b[0;34m.\u001b[0m\u001b[0mcreate_base\u001b[0m\u001b[0;34m(\u001b[0m\u001b[0mEspresso\u001b[0m\u001b[0;34m)\u001b[0m     \u001b[0;34m.\u001b[0m\u001b[0madd\u001b[0m\u001b[0;34m(\u001b[0m\u001b[0mWhipped\u001b[0m\u001b[0;34m)\u001b[0m     \u001b[0;34m.\u001b[0m\u001b[0madd\u001b[0m\u001b[0;34m(\u001b[0m\u001b[0mWhisky\u001b[0m\u001b[0;34m)\u001b[0m     \u001b[0;34m.\u001b[0m\u001b[0mget_coffee\u001b[0m\u001b[0;34m(\u001b[0m\u001b[0;34m)\u001b[0m\u001b[0;34m\u001b[0m\u001b[0m\n\u001b[0m",
      "\u001b[0;31mNameError\u001b[0m: name 'CoffeeBuilder' is not defined"
     ]
    }
   ],
   "source": [
    "coffee = CoffeeBuilder() \\\n",
    "    .create_base(Espresso) \\\n",
    "    .add(Whipped) \\\n",
    "    .add(Whisky) \\\n",
    "    .get_coffee()"
   ]
  },
  {
   "cell_type": "code",
   "execution_count": null,
   "metadata": {
    "collapsed": true
   },
   "outputs": [],
   "source": [
    "coffee.description"
   ]
  },
  {
   "cell_type": "code",
   "execution_count": 95,
   "metadata": {},
   "outputs": [
    {
     "data": {
      "text/plain": [
       "16.5"
      ]
     },
     "execution_count": 95,
     "metadata": {},
     "output_type": "execute_result"
    }
   ],
   "source": [
    "coffee.price"
   ]
  },
  {
   "cell_type": "code",
   "execution_count": 96,
   "metadata": {},
   "outputs": [
    {
     "name": "stdout",
     "output_type": "stream",
     "text": [
      "Making a perfect espresso: 8g of coffee, 96 Celsius, 16 bar\n",
      "Adding a whipped cream\n",
      "Pouring a 50cl of whisky\n"
     ]
    }
   ],
   "source": [
    "coffee.prepare()"
   ]
  }
 ],
 "metadata": {
  "kernelspec": {
   "display_name": "Python 3",
   "language": "python",
   "name": "python3"
  },
  "language_info": {
   "codemirror_mode": {
    "name": "ipython",
    "version": 3
   },
   "file_extension": ".py",
   "mimetype": "text/x-python",
   "name": "python",
   "nbconvert_exporter": "python",
   "pygments_lexer": "ipython3",
   "version": "3.5.3"
  },
  "toc": {
   "nav_menu": {},
   "number_sections": true,
   "sideBar": true,
   "skip_h1_title": false,
   "toc_cell": false,
   "toc_position": {},
   "toc_section_display": "block",
   "toc_window_display": false
  }
 },
 "nbformat": 4,
 "nbformat_minor": 2
}
