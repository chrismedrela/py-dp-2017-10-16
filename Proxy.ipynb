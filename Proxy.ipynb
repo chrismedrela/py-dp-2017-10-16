{
 "cells": [
  {
   "cell_type": "markdown",
   "metadata": {},
   "source": [
    "# Proxy (pełnomocnik)"
   ]
  },
  {
   "cell_type": "markdown",
   "metadata": {},
   "source": [
    "# Ćwiczenie: Cache na funkcję"
   ]
  },
  {
   "cell_type": "code",
   "execution_count": 1,
   "metadata": {
    "collapsed": true
   },
   "outputs": [],
   "source": [
    "def fibonacci(n):\n",
    "    print('fibonacci(n)'.format(n))class CacheFunction:\n",
    "    def __init__(self, f):\n",
    "        self._function = f\n",
    "        self._cache = {}\n",
    "        \n",
    "    def __call__(self, *args):\n",
    "        try:\n",
    "            return self._cache[args]\n",
    "        except KeyError:\n",
    "            result = self._function(*args)\n",
    "            self._cache[args] = result\n",
    "            return result\n",
    "        except TypeError:  # unhashable object in args\n",
    "            return self._function(*args)\n",
    "    if n == 0:\n",
    "        return 0\n",
    "    elif n == 1:\n",
    "        return 1\n",
    "    else:\n",
    "        return fibonacci(n-1) + fibonacci(n-2)"
   ]
  },
  {
   "cell_type": "code",
   "execution_count": 2,
   "metadata": {},
   "outputs": [
    {
     "name": "stdout",
     "output_type": "stream",
     "text": [
      "909 ms ± 13.3 ms per loop (mean ± std. dev. of 7 runs, 1 loop each)\n"
     ]
    }
   ],
   "source": [
    "%timeit fibonacci(30)"
   ]
  },
  {
   "cell_type": "code",
   "execution_count": 3,
   "metadata": {
    "collapsed": true
   },
   "outputs": [],
   "source": [
    "class CacheFunction:\n",
    "    def __call__(self, ...):\n",
    "        ...cached_fibonacci = CacheFunction(fibonacci)"
   ]
  },
  {
   "cell_type": "code",
   "execution_count": null,
   "metadata": {
    "collapsed": true
   },
   "outputs": [],
   "source": [
    "cached_fibonacci = CacheFunction(fibonacci)\n",
    "%timeit cached_fibonacci(20)"
   ]
  },
  {
   "cell_type": "code",
   "execution_count": 97,
   "metadata": {
    "collapsed": true
   },
   "outputs": [],
   "source": [
    "class CacheFunction:\n",
    "    def __init__(self, f):\n",
    "        self._function = f\n",
    "        self._cache = {}\n",
    "        \n",
    "    def __call__(self, *args):\n",
    "        try:\n",
    "            return self._cache[args]\n",
    "        except KeyError:\n",
    "            result = self._function(*args)\n",
    "            self._cache[args] = result\n",
    "            return result\n",
    "        except TypeError:  # unhashable object in args\n",
    "            return self._function(*args)"
   ]
  }
 ],
 "metadata": {
  "kernelspec": {
   "display_name": "Python 3",
   "language": "python",
   "name": "python3"
  },
  "language_info": {
   "codemirror_mode": {
    "name": "ipython",
    "version": 3
   },
   "file_extension": ".py",
   "mimetype": "text/x-python",
   "name": "python",
   "nbconvert_exporter": "python",
   "pygments_lexer": "ipython3",
   "version": "3.5.3"
  },
  "toc": {
   "nav_menu": {},
   "number_sections": true,
   "sideBar": true,
   "skip_h1_title": false,
   "toc_cell": false,
   "toc_position": {},
   "toc_section_display": "block",
   "toc_window_display": false
  }
 },
 "nbformat": 4,
 "nbformat_minor": 2
}
