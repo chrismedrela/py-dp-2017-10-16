{
 "cells": [
  {
   "cell_type": "markdown",
   "metadata": {},
   "source": [
    "# Template Method (metoda szablonowa)"
   ]
  },
  {
   "cell_type": "markdown",
   "metadata": {},
   "source": [
    "# Przykład: REPL"
   ]
  },
  {
   "cell_type": "code",
   "execution_count": 5,
   "metadata": {
    "collapsed": true
   },
   "outputs": [],
   "source": [
    "class Stop(Exception):\n",
    "    pass\n",
    "\n",
    "class REPL:\n",
    "    def run(self):\n",
    "        try:\n",
    "            while True:\n",
    "                expr = self.read()\n",
    "                result = self.eval(expr)\n",
    "                self.print_(result)\n",
    "        except Stop:\n",
    "            pass\n",
    "        \n",
    "    def read(self):\n",
    "        raise NotImplemented\n",
    "        \n",
    "    def eval(self, expr):\n",
    "        raise NotImplemented\n",
    "        \n",
    "    def print_(self, result):\n",
    "        raise NotImplemented"
   ]
  },
  {
   "cell_type": "code",
   "execution_count": 6,
   "metadata": {},
   "outputs": [],
   "source": [
    "class CLI_REPL(REPL):\n",
    "    def read(self):\n",
    "        return input('>>> ')\n",
    "    \n",
    "    def eval(self, expr):\n",
    "        if expr.lower().strip() == 'exit':\n",
    "            raise Stop\n",
    "        return eval(expr)\n",
    "    \n",
    "    def print_(self, result):\n",
    "        print(result)"
   ]
  },
  {
   "cell_type": "code",
   "execution_count": 7,
   "metadata": {},
   "outputs": [
    {
     "name": "stdout",
     "output_type": "stream",
     "text": [
      ">>> 2+4\n",
      "6\n",
      ">>> 2*5+4\n",
      "14\n",
      ">>> exit\n"
     ]
    }
   ],
   "source": [
    "cli_repl = CLI_REPL()\n",
    "cli_repl.run()"
   ]
  },
  {
   "cell_type": "code",
   "execution_count": null,
   "metadata": {
    "collapsed": true
   },
   "outputs": [],
   "source": []
  }
 ],
 "metadata": {
  "kernelspec": {
   "display_name": "Python 3",
   "language": "python",
   "name": "python3"
  },
  "language_info": {
   "codemirror_mode": {
    "name": "ipython",
    "version": 3
   },
   "file_extension": ".py",
   "mimetype": "text/x-python",
   "name": "python",
   "nbconvert_exporter": "python",
   "pygments_lexer": "ipython3",
   "version": "3.5.3"
  },
  "toc": {
   "nav_menu": {},
   "number_sections": true,
   "sideBar": true,
   "skip_h1_title": false,
   "toc_cell": false,
   "toc_position": {},
   "toc_section_display": "block",
   "toc_window_display": false
  }
 },
 "nbformat": 4,
 "nbformat_minor": 2
}
