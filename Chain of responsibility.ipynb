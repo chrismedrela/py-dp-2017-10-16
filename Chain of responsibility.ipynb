{
 "cells": [
  {
   "cell_type": "markdown",
   "metadata": {},
   "source": [
    "# Chain of Responsibility"
   ]
  },
  {
   "cell_type": "markdown",
   "metadata": {},
   "source": [
    "# Ćwiczenie: propagacja zdarzeń w GUI"
   ]
  },
  {
   "cell_type": "markdown",
   "metadata": {},
   "source": [
    "W ćwiczeniu należy zaimplementować metodę `Widget.handle`"
   ]
  },
  {
   "cell_type": "code",
   "execution_count": 84,
   "metadata": {
    "collapsed": true
   },
   "outputs": [],
   "source": [
    "class Event(object):\n",
    "    def __init__(self):\n",
    "        self.handled = False\n",
    "\n",
    "class MouseClickEvent(Event):\n",
    "    handler_name = 'on_mouse_click'\n",
    "    \n",
    "    def __init__(self, x, y):\n",
    "        super().__init__()\n",
    "        self.x = x\n",
    "        self.y = y\n",
    "        \n",
    "class KeyPressedEvent(Event):\n",
    "    handler_name = 'on_key_pressed'\n",
    "    \n",
    "    def __init__(self, key):\n",
    "        super().__init__()\n",
    "        self.key = key\n",
    "        \n",
    "class CloseEvent(Event):\n",
    "    handler_name = 'on_close'"
   ]
  },
  {
   "cell_type": "code",
   "execution_count": null,
   "metadata": {
    "collapsed": true
   },
   "outputs": [],
   "source": [
    "class Widget(object):\n",
    "    def __init__(self):\n",
    "        self.children = []\n",
    "    \n",
    "    def handle(self, event):\n",
    "        pass"
   ]
  },
  {
   "cell_type": "code",
   "execution_count": 85,
   "metadata": {
    "collapsed": true
   },
   "outputs": [],
   "source": [
    "class MainWindow(Widget):\n",
    "    def on_close(self, event):\n",
    "        print('Closing MainWindow...')\n",
    "        \n",
    "class Frame(Widget):\n",
    "    pass\n",
    "            \n",
    "class TextBox(Widget):\n",
    "    def on_key_pressed(self, event):\n",
    "        print('TextBox handles keypressed event - {}'.format(event.key))\n",
    "        \n",
    "    def on_close(self, event):\n",
    "        print('TextBox handles close event.')\n",
    "        \n",
    "class Button(Widget):\n",
    "    def on_mouse_click(self, event):\n",
    "        print('Button handles mouse clicked at ({}, {})'.format(event.x, event.y))"
   ]
  },
  {
   "cell_type": "code",
   "execution_count": 86,
   "metadata": {
    "collapsed": true
   },
   "outputs": [],
   "source": [
    "txt_box = TextBox()\n",
    "btn_ok = Button()\n",
    "\n",
    "frame = Frame()\n",
    "frame.children = [txt_box, btn_ok]\n",
    "\n",
    "wnd = MainWindow()\n",
    "wnd.children = [frame]"
   ]
  },
  {
   "cell_type": "markdown",
   "metadata": {},
   "source": [
    "### Oczekiwane zachowanie"
   ]
  },
  {
   "cell_type": "code",
   "execution_count": 92,
   "metadata": {},
   "outputs": [
    {
     "name": "stdout",
     "output_type": "stream",
     "text": [
      "Button handles mouse clicked at (1, 2)\n"
     ]
    }
   ],
   "source": [
    "wnd.handle(MouseClickEvent(1, 2))"
   ]
  },
  {
   "cell_type": "code",
   "execution_count": 89,
   "metadata": {},
   "outputs": [
    {
     "name": "stdout",
     "output_type": "stream",
     "text": [
      "TextBox handles keypressed event - K\n"
     ]
    }
   ],
   "source": [
    "wnd.handle(KeyPressedEvent('K'))"
   ]
  },
  {
   "cell_type": "code",
   "execution_count": 90,
   "metadata": {},
   "outputs": [
    {
     "name": "stdout",
     "output_type": "stream",
     "text": [
      "Closing MainWindow...\n"
     ]
    }
   ],
   "source": [
    "wnd.handle(CloseEvent())"
   ]
  }
 ],
 "metadata": {
  "kernelspec": {
   "display_name": "Python 3",
   "language": "python",
   "name": "python3"
  },
  "language_info": {
   "codemirror_mode": {
    "name": "ipython",
    "version": 3
   },
   "file_extension": ".py",
   "mimetype": "text/x-python",
   "name": "python",
   "nbconvert_exporter": "python",
   "pygments_lexer": "ipython3",
   "version": "3.5.3"
  },
  "toc": {
   "nav_menu": {},
   "number_sections": true,
   "sideBar": true,
   "skip_h1_title": false,
   "toc_cell": false,
   "toc_position": {},
   "toc_section_display": "block",
   "toc_window_display": false
  }
 },
 "nbformat": 4,
 "nbformat_minor": 2
}
