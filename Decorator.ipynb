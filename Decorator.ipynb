{
 "cells": [
  {
   "cell_type": "markdown",
   "metadata": {},
   "source": [
    "# Decorator (dekorator)"
   ]
  },
  {
   "cell_type": "markdown",
   "metadata": {},
   "source": [
    "## Czym dekorator nie jest?"
   ]
  },
  {
   "cell_type": "code",
   "execution_count": 1,
   "metadata": {
    "collapsed": true
   },
   "outputs": [],
   "source": [
    "class A(object):\n",
    "    @property\n",
    "    def foo(self):\n",
    "        return 42"
   ]
  },
  {
   "cell_type": "code",
   "execution_count": 2,
   "metadata": {},
   "outputs": [
    {
     "data": {
      "text/plain": [
       "42"
      ]
     },
     "execution_count": 2,
     "metadata": {},
     "output_type": "execute_result"
    }
   ],
   "source": [
    "a = A()\n",
    "a.foo"
   ]
  },
  {
   "cell_type": "markdown",
   "metadata": {},
   "source": [
    "## Ćwiczenie: Coffee Starbucks"
   ]
  },
  {
   "cell_type": "code",
   "execution_count": 3,
   "metadata": {
    "collapsed": true
   },
   "outputs": [],
   "source": [
    "class BaseCoffee(object):\n",
    "    def __init__(self, price, description):\n",
    "        self.__price = price\n",
    "        self.__description = description\n",
    "\n",
    "    @property\n",
    "    def price(self):\n",
    "        return self.__price\n",
    "\n",
    "    @property\n",
    "    def description(self):\n",
    "        return self.__description\n",
    "    \n",
    "    def prepare(self):\n",
    "        pass"
   ]
  },
  {
   "cell_type": "code",
   "execution_count": 80,
   "metadata": {
    "collapsed": true
   },
   "outputs": [],
   "source": [
    "class Espresso(BaseCoffee):\n",
    "    def __init__(self, price = 4.0):\n",
    "        super().__init__(price, \"Espresso\")\n",
    "\n",
    "    def prepare(self):\n",
    "        print(\"Making a perfect espresso: 8g of coffee, 96 Celsius, 16 bar\")"
   ]
  },
  {
   "cell_type": "code",
   "execution_count": 81,
   "metadata": {
    "collapsed": true
   },
   "outputs": [],
   "source": [
    "class Cappuccino(BaseCoffee):\n",
    "    def __init__(self, price = 6.0):\n",
    "        super().__init__(price, \"Cappuccino\")\n",
    "\n",
    "    def prepare(self):\n",
    "        print(\"Making an espresso combined with a perfect milk foam\")"
   ]
  },
  {
   "cell_type": "code",
   "execution_count": 82,
   "metadata": {
    "collapsed": true
   },
   "outputs": [],
   "source": [
    "class Decorator(BaseCoffee): pass\n",
    "class Whipped(Decorator): pass\n",
    "class Whisky(Decorator): pass"
   ]
  },
  {
   "cell_type": "markdown",
   "metadata": {},
   "source": [
    "### Oczekiwane zachowanie"
   ]
  },
  {
   "cell_type": "code",
   "execution_count": 84,
   "metadata": {
    "collapsed": true
   },
   "outputs": [],
   "source": [
    "coffee = Whisky(Whipped(Espresso()))"
   ]
  },
  {
   "cell_type": "code",
   "execution_count": 85,
   "metadata": {},
   "outputs": [
    {
     "data": {
      "text/plain": [
       "16.5"
      ]
     },
     "execution_count": 85,
     "metadata": {},
     "output_type": "execute_result"
    }
   ],
   "source": [
    "coffee.price"
   ]
  },
  {
   "cell_type": "code",
   "execution_count": 86,
   "metadata": {},
   "outputs": [
    {
     "data": {
      "text/plain": [
       "'Espresso + Whipped Cream + Whisky'"
      ]
     },
     "execution_count": 86,
     "metadata": {},
     "output_type": "execute_result"
    }
   ],
   "source": [
    "coffee.description"
   ]
  },
  {
   "cell_type": "code",
   "execution_count": 87,
   "metadata": {
    "scrolled": true
   },
   "outputs": [
    {
     "name": "stdout",
     "output_type": "stream",
     "text": [
      "Making a perfect espresso: 8g of coffee, 96 Celsius, 16 bar\n",
      "Adding a whipped cream\n",
      "Pouring a 50cl of whisky\n"
     ]
    }
   ],
   "source": [
    "coffee.prepare()class Decorator(BaseCoffee): ...\n",
    "class Whipped(Decorator): ...\n",
    "class Whisky(Decorator): ..."
   ]
  }
 ],
 "metadata": {
  "kernelspec": {
   "display_name": "Python 3",
   "language": "python",
   "name": "python3"
  },
  "language_info": {
   "codemirror_mode": {
    "name": "ipython",
    "version": 3
   },
   "file_extension": ".py",
   "mimetype": "text/x-python",
   "name": "python",
   "nbconvert_exporter": "python",
   "pygments_lexer": "ipython3",
   "version": "3.5.3"
  },
  "toc": {
   "nav_menu": {},
   "number_sections": true,
   "sideBar": true,
   "skip_h1_title": false,
   "toc_cell": false,
   "toc_position": {},
   "toc_section_display": "block",
   "toc_window_display": false
  }
 },
 "nbformat": 4,
 "nbformat_minor": 2
}
