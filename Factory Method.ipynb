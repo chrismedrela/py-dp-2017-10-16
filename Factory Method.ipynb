{
 "cells": [
  {
   "cell_type": "markdown",
   "metadata": {
    "hidden": true
   },
   "source": [
    "# Ćwiczenie: Shapes"
   ]
  },
  {
   "cell_type": "markdown",
   "metadata": {
    "hidden": true
   },
   "source": [
    "### Kod początkowy"
   ]
  },
  {
   "cell_type": "code",
   "execution_count": 21,
   "metadata": {
    "collapsed": true,
    "hidden": true
   },
   "outputs": [],
   "source": [
    "# class Shape(object):  # Python 2\n",
    "class Shape:  # Python 3\n",
    "    def __init__(self, x, y):\n",
    "        self.x = x\n",
    "        self.y = y\n",
    "        \n",
    "class Circle(Shape):\n",
    "    def __init__(self, x, y, r):\n",
    "        super().__init__(x, y)\n",
    "        self.r = r\n",
    "        \n",
    "    def __repr__(self):\n",
    "        return 'Circle x={} y={} r={}'.format(self.x, self.y, self.r)\n",
    "        \n",
    "class Rectangle(Shape):\n",
    "    def __init__(self, x, y, w, h):\n",
    "        super().__init__(x, y)\n",
    "        self.w = w\n",
    "        self.h = h\n",
    "    def __repr__(self):\n",
    "        return 'Rectangle x={} y={} w={} h={}'.format(self.x, self.y, self.w, self.h)"
   ]
  },
  {
   "cell_type": "code",
   "execution_count": 22,
   "metadata": {
    "collapsed": true,
    "hidden": true
   },
   "outputs": [],
   "source": [
    "raw_shapes = '''\n",
    "Circle 15 10 14\n",
    "Rectangle 30 30 100 150\n",
    "Circle 40 20 5\n",
    "Square 30 100 20\n",
    "'''"
   ]
  },
  {
   "cell_type": "code",
   "execution_count": 2,
   "metadata": {
    "collapsed": true,
    "hidden": true
   },
   "outputs": [],
   "source": [
    "# class Drawing(object):  # Python 2\n",
    "class Drawing:  # Python 3\n",
    "    def __init__(self, shapes):\n",
    "        self._shapes = shapes\n",
    "        \n",
    "    def __repr__(self):\n",
    "        return '<Drawing {}>'.format(str(self._shapes))\n",
    "        \n",
    "    @classmethod\n",
    "    def from_stream(cls, stream):\n",
    "        shapes = []\n",
    "        for line in stream:\n",
    "            line = line.strip()\n",
    "            if not line:\n",
    "                continue\n",
    "            ...\n",
    "            shapes.append(...)\n",
    "        return cls(shapes)"
   ]
  },
  {
   "cell_type": "code",
   "execution_count": 20,
   "metadata": {
    "collapsed": true,
    "hidden": true
   },
   "outputs": [],
   "source": [
    "from io import StringIO"
   ]
  },
  {
   "cell_type": "code",
   "execution_count": 28,
   "metadata": {
    "hidden": true
   },
   "outputs": [
    {
     "data": {
      "text/plain": [
       "<Drawing [Circle x=15 y=10 r=14, Rectangle x=30 y=30 w=100 h=150, Circle x=40 y=20 r=5, Rectangle x=30 y=100 w=20 h=20]>"
      ]
     },
     "execution_count": 28,
     "metadata": {},
     "output_type": "execute_result"
    }
   ],
   "source": [
    "Drawing.from_stream(StringIO(raw_shapes))"
   ]
  },
  {
   "cell_type": "code",
   "execution_count": 3,
   "metadata": {},
   "outputs": [
    {
     "data": {
      "text/plain": [
       "{'Drawing': __main__.Drawing,\n",
       " 'In': ['',\n",
       "  'globals()',\n",
       "  \"class Drawing:\\n    def __init__(self, shapes):\\n        self._shapes = shapes\\n        \\n    def __repr__(self):\\n        return '<Drawing {}>'.format(str(self._shapes))\\n        \\n    @classmethod\\n    def from_stream(cls, stream):\\n        shapes = []\\n        for line in stream:\\n            line = line.strip()\\n            if not line:\\n                continue\\n            ...\\n            shapes.append(...)\\n        return cls(shapes)\",\n",
       "  'globals()'],\n",
       " 'Out': {1: {...}},\n",
       " '_': {...},\n",
       " '_1': {...},\n",
       " '__': '',\n",
       " '___': '',\n",
       " '__builtin__': <module 'builtins' (built-in)>,\n",
       " '__builtins__': <module 'builtins' (built-in)>,\n",
       " '__doc__': 'Automatically created module for IPython interactive environment',\n",
       " '__loader__': None,\n",
       " '__name__': '__main__',\n",
       " '__package__': None,\n",
       " '__spec__': None,\n",
       " '_dh': ['/home/chris/infotraining/py-dp-2017-10-16'],\n",
       " '_i': \"class Drawing:\\n    def __init__(self, shapes):\\n        self._shapes = shapes\\n        \\n    def __repr__(self):\\n        return '<Drawing {}>'.format(str(self._shapes))\\n        \\n    @classmethod\\n    def from_stream(cls, stream):\\n        shapes = []\\n        for line in stream:\\n            line = line.strip()\\n            if not line:\\n                continue\\n            ...\\n            shapes.append(...)\\n        return cls(shapes)\",\n",
       " '_i1': 'globals()',\n",
       " '_i2': \"class Drawing:\\n    def __init__(self, shapes):\\n        self._shapes = shapes\\n        \\n    def __repr__(self):\\n        return '<Drawing {}>'.format(str(self._shapes))\\n        \\n    @classmethod\\n    def from_stream(cls, stream):\\n        shapes = []\\n        for line in stream:\\n            line = line.strip()\\n            if not line:\\n                continue\\n            ...\\n            shapes.append(...)\\n        return cls(shapes)\",\n",
       " '_i3': 'globals()',\n",
       " '_ih': ['',\n",
       "  'globals()',\n",
       "  \"class Drawing:\\n    def __init__(self, shapes):\\n        self._shapes = shapes\\n        \\n    def __repr__(self):\\n        return '<Drawing {}>'.format(str(self._shapes))\\n        \\n    @classmethod\\n    def from_stream(cls, stream):\\n        shapes = []\\n        for line in stream:\\n            line = line.strip()\\n            if not line:\\n                continue\\n            ...\\n            shapes.append(...)\\n        return cls(shapes)\",\n",
       "  'globals()'],\n",
       " '_ii': 'globals()',\n",
       " '_iii': '',\n",
       " '_oh': {1: {...}},\n",
       " 'exit': <IPython.core.autocall.ZMQExitAutocall at 0x7f00c9878b38>,\n",
       " 'get_ipython': <bound method InteractiveShell.get_ipython of <ipykernel.zmqshell.ZMQInteractiveShell object at 0x7f00c98b0828>>,\n",
       " 'quit': <IPython.core.autocall.ZMQExitAutocall at 0x7f00c9878b38>}"
      ]
     },
     "execution_count": 3,
     "metadata": {},
     "output_type": "execute_result"
    }
   ],
   "source": [
    "globals()"
   ]
  },
  {
   "cell_type": "code",
   "execution_count": null,
   "metadata": {
    "collapsed": true
   },
   "outputs": [],
   "source": []
  }
 ],
 "metadata": {
  "kernelspec": {
   "display_name": "Python 3",
   "language": "python",
   "name": "python3"
  },
  "language_info": {
   "codemirror_mode": {
    "name": "ipython",
    "version": 3
   },
   "file_extension": ".py",
   "mimetype": "text/x-python",
   "name": "python",
   "nbconvert_exporter": "python",
   "pygments_lexer": "ipython3",
   "version": "3.5.3"
  },
  "toc": {
   "nav_menu": {},
   "number_sections": true,
   "sideBar": true,
   "skip_h1_title": false,
   "toc_cell": false,
   "toc_position": {},
   "toc_section_display": "block",
   "toc_window_display": false
  }
 },
 "nbformat": 4,
 "nbformat_minor": 2
}
