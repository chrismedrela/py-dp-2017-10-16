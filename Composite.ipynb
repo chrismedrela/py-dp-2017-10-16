{
 "cells": [
  {
   "cell_type": "markdown",
   "metadata": {},
   "source": [
    "# Composite (kompozyt)"
   ]
  },
  {
   "cell_type": "code",
   "execution_count": null,
   "metadata": {
    "collapsed": true
   },
   "outputs": [],
   "source": [
    "class Evaluable:\n",
    "    def eval(self, env):\n",
    "        raise NotImplementedError\n",
    "\n",
    "# Liście drzewa\n",
    "class Number(Evaluable):\n",
    "    def eval(self, env):\n",
    "        pass\n",
    "    \n",
    "class Variable(Evaluable):\n",
    "    def eval(self, env):\n",
    "        pass\n",
    "\n",
    "# Węzły (nie będące liśćmi)\n",
    "class Product(Evaluable): \n",
    "    def eval(self, env):\n",
    "        pass\n",
    "    \n",
    "class Sum(Evaluable):\n",
    "    def eval(self, env):\n",
    "        pass"
   ]
  },
  {
   "cell_type": "code",
   "execution_count": 93,
   "metadata": {
    "scrolled": true
   },
   "outputs": [
    {
     "data": {
      "text/plain": [
       "((2 * x) + 1)"
      ]
     },
     "execution_count": 93,
     "metadata": {},
     "output_type": "execute_result"
    }
   ],
   "source": [
    "expr = Sum(Product(Number(2), Variable('x')), Number(1))\n",
    "expr"
   ]
  },
  {
   "cell_type": "code",
   "execution_count": 94,
   "metadata": {},
   "outputs": [
    {
     "data": {
      "text/plain": [
       "11"
      ]
     },
     "execution_count": 94,
     "metadata": {},
     "output_type": "execute_result"
    }
   ],
   "source": [
    "expr.eval({'x': 5})"
   ]
  },
  {
   "cell_type": "code",
   "execution_count": null,
   "metadata": {
    "collapsed": true
   },
   "outputs": [],
   "source": [
    "Number(5).eval({})  # ==> 5\n",
    "Variable('x').eval({'x': 5, 'y': 8})  # ==> 5\n",
    "Sum(Number(3), Number(5)).eval({})  # ==> 8\n",
    "Product(Number(3), Number(5)).eval({})  # ==> 15"
   ]
  }
 ],
 "metadata": {
  "kernelspec": {
   "display_name": "Python 3",
   "language": "python",
   "name": "python3"
  },
  "language_info": {
   "codemirror_mode": {
    "name": "ipython",
    "version": 3
   },
   "file_extension": ".py",
   "mimetype": "text/x-python",
   "name": "python",
   "nbconvert_exporter": "python",
   "pygments_lexer": "ipython3",
   "version": "3.5.3"
  },
  "toc": {
   "nav_menu": {},
   "number_sections": true,
   "sideBar": true,
   "skip_h1_title": false,
   "toc_cell": false,
   "toc_position": {},
   "toc_section_display": "block",
   "toc_window_display": false
  }
 },
 "nbformat": 4,
 "nbformat_minor": 2
}
