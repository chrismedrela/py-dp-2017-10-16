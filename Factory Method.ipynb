{
 "cells": [
  {
   "cell_type": "markdown",
   "metadata": {
    "hidden": true
   },
   "source": [
    "# Ćwiczenie: Shapes"
   ]
  },
  {
   "cell_type": "markdown",
   "metadata": {
    "hidden": true
   },
   "source": [
    "### Kod początkowy"
   ]
  },
  {
   "cell_type": "code",
   "execution_count": 7,
   "metadata": {
    "collapsed": true,
    "hidden": true
   },
   "outputs": [],
   "source": [
    "# class Shape(object):  # Python 2\n",
    "class Shape:  # Python 3\n",
    "    def __init__(self, x, y):\n",
    "        self.x = x\n",
    "        self.y = y\n",
    "        \n",
    "class Circle(Shape):\n",
    "    def __init__(self, x, y, r):\n",
    "        # super(Circle, self).__init__(x, y)  # Python 2\n",
    "        super().__init__(x, y)  # Python 3\n",
    "        self.r = r\n",
    "        \n",
    "    def __repr__(self):\n",
    "        return 'Circle x={} y={} r={}'.format(self.x, self.y, self.r)\n",
    "        \n",
    "class Rectangle(Shape):\n",
    "    def __init__(self, x, y, w, h):\n",
    "        # super(Rectangle, self).__init__(x, y)  # Python 2\n",
    "        super().__init__(x, y)  # Python 3\n",
    "        self.w = w\n",
    "        self.h = h\n",
    "    def __repr__(self):\n",
    "        return 'Rectangle x={} y={} w={} h={}'.format(self.x, self.y, self.w, self.h)"
   ]
  },
  {
   "cell_type": "code",
   "execution_count": 8,
   "metadata": {
    "collapsed": true,
    "hidden": true
   },
   "outputs": [],
   "source": [
    "raw_shapes = '''\n",
    "Circle 15 10 14\n",
    "Rectangle 30 30 100 150\n",
    "Circle 40 20 5\n",
    "Square 30 100 20\n",
    "'''"
   ]
  },
  {
   "cell_type": "code",
   "execution_count": 9,
   "metadata": {
    "collapsed": true,
    "hidden": true
   },
   "outputs": [],
   "source": [
    "# class Drawing(object):  # Python 2\n",
    "class Drawing:  # Python 3\n",
    "    def __init__(self, shapes):\n",
    "        self._shapes = shapes\n",
    "        \n",
    "    def __repr__(self):\n",
    "        return '<Drawing {}>'.format(str(self._shapes))\n",
    "        \n",
    "    @classmethod\n",
    "    def from_stream(cls, stream):\n",
    "        shapes = []\n",
    "        for line in stream:\n",
    "            line = line.strip()\n",
    "            if not line:\n",
    "                continue\n",
    "            ...\n",
    "            shapes.append(...)\n",
    "        return cls(shapes)"
   ]
  },
  {
   "cell_type": "code",
   "execution_count": 10,
   "metadata": {
    "collapsed": true,
    "hidden": true
   },
   "outputs": [],
   "source": [
    "from io import StringIO"
   ]
  },
  {
   "cell_type": "code",
   "execution_count": 28,
   "metadata": {
    "hidden": true
   },
   "outputs": [
    {
     "data": {
      "text/plain": [
       "<Drawing [Circle x=15 y=10 r=14, Rectangle x=30 y=30 w=100 h=150, Circle x=40 y=20 r=5, Rectangle x=30 y=100 w=20 h=20]>"
      ]
     },
     "execution_count": 28,
     "metadata": {},
     "output_type": "execute_result"
    }
   ],
   "source": [
    "Drawing.from_stream(StringIO(raw_shapes))"
   ]
  },
  {
   "cell_type": "markdown",
   "metadata": {},
   "source": [
    "### Argument unpacking"
   ]
  },
  {
   "cell_type": "code",
   "execution_count": 11,
   "metadata": {},
   "outputs": [
    {
     "name": "stdout",
     "output_type": "stream",
     "text": [
      "2 3 4\n"
     ]
    }
   ],
   "source": [
    "params = [2, 3, 4]\n",
    "\n",
    "def foo(a, b, c):\n",
    "    print(a, b, c)\n",
    "\n",
    "foo(*params)"
   ]
  },
  {
   "cell_type": "markdown",
   "metadata": {},
   "source": [
    "### Złe rozwiązanie"
   ]
  },
  {
   "cell_type": "code",
   "execution_count": 12,
   "metadata": {},
   "outputs": [],
   "source": [
    "class BadDrawing:\n",
    "    def __init__(self, shapes: [Shape]):\n",
    "        self._shapes = shapes\n",
    "        \n",
    "    def __repr__(self):\n",
    "        return '<BadDrawing {}>'.format(str(self._shapes))\n",
    "        \n",
    "    @classmethod\n",
    "    def from_stream(cls, stream):\n",
    "        shapes = []\n",
    "        for line in stream:\n",
    "            line = line.strip()\n",
    "            if not line:\n",
    "                continue\n",
    "            shape_name, *parameters = line.split()\n",
    "            parameters = map(int, parameters)\n",
    "            if shape_name == 'Circle':\n",
    "                shape = Circle(*parameters)\n",
    "            elif shape_name == 'Rectangle':\n",
    "                shape = Rectangle(*parameters)\n",
    "            elif shape_name == 'Square':\n",
    "                x, y, a = parameters\n",
    "                shape = Rectangle(x, y, a, a)\n",
    "            else:\n",
    "                raise TypeError\n",
    "            shapes.append(shape)\n",
    "        return cls(shapes)"
   ]
  },
  {
   "cell_type": "code",
   "execution_count": 13,
   "metadata": {},
   "outputs": [
    {
     "data": {
      "text/plain": [
       "<BadDrawing [Circle x=15 y=10 r=14, Rectangle x=30 y=30 w=100 h=150, Circle x=40 y=20 r=5, Rectangle x=30 y=100 w=20 h=20]>"
      ]
     },
     "execution_count": 13,
     "metadata": {},
     "output_type": "execute_result"
    }
   ],
   "source": [
    "BadDrawing.from_stream(StringIO(raw_shapes))"
   ]
  },
  {
   "cell_type": "markdown",
   "metadata": {
    "hidden": true
   },
   "source": [
    "### Rozwiązanie z Factory Method"
   ]
  },
  {
   "cell_type": "code",
   "execution_count": 15,
   "metadata": {
    "collapsed": true,
    "hidden": true
   },
   "outputs": [],
   "source": [
    "shape_factory = {\n",
    "    'Circl### Rozwiązanie z Factory Method i użyciem `Shape.__subclasses__`\n",
    "\n",
    "class Shape:\n",
    "    def __init__(self, x, y):\n",
    "        self.x = x\n",
    "        self.y = y\n",
    "        \n",
    "    @classmethod\n",
    "    def create_factory(cls):\n",
    "        shape_factory = {}\n",
    "        for subclass in cls.__subclasses__():\n",
    "            shape_factory[subclass.__name__] = subclass\n",
    "            # recurse if you want to include subsubclasses and so on\n",
    "            # shape_factory.update(subclass.create_factory())\n",
    "        return shape_factory\n",
    "        \n",
    "class Circle(Shape):\n",
    "    def __init__(self, x, y, r):\n",
    "        super().__init__(x, y)\n",
    "        self.r = r\n",
    "        \n",
    "    def __repr__(self):\n",
    "        return 'Circle x={} y={} r={}'.format(self.x, self.y, self.r)\n",
    "        \n",
    "class Rectangle(Shape):\n",
    "    def __init__(self, x, y, w, h):\n",
    "        super().__init__(x, y)\n",
    "        self.w = w\n",
    "        self.h = h\n",
    "    def __repr__(self):\n",
    "        return 'Rectangle x={} y={} w={} h={}'.format(self.x, self.y, self.w, self.h)\n",
    "    \n",
    "class Square(Shape):\n",
    "    def __new__(cls, x, y, a):\n",
    "        return Rectangle(x, y, a, a)\n",
    "\n",
    "Shape.create_factory()\n",
    "\n",
    "class Drawing:\n",
    "    def __init__(self, shapes: [Shape]):\n",
    "        self._shapes = shapes\n",
    "        \n",
    "    def __repr__(self):\n",
    "        return '<Drawing {}>'.format(str(self._shapes))\n",
    "        \n",
    "    @classmethod\n",
    "    def from_stream(cls, stream):\n",
    "        shape_factory = Shape.create_factory()\n",
    "        shapes = []\n",
    "        for line in stream:\n",
    "            line = line.strip()\n",
    "            if not line:\n",
    "                continue\n",
    "            shape_name, *parameters = line.split()\n",
    "            parameters = map(int, parameters)\n",
    "            try:\n",
    "                shape_creator = shape_factory[shape_name]\n",
    "            except KeyError:\n",
    "                raise TypeError\n",
    "            else:\n",
    "                shape = shape_creator(*parameters)\n",
    "            shapes.append(shape)\n",
    "        return cls(shapes)\n",
    "\n",
    "Drawing.from_stream(StringIO(raw_shapes))e': Circle,\n",
    "    'Rectangle': Rectangle,\n",
    "    'Square': lambda x, y, a: Rectangle(x, y, a, a),\n",
    "}"
   ]
  },
  {
   "cell_type": "code",
   "execution_count": 16,
   "metadata": {
    "collapsed": true,
    "hidden": true
   },
   "outputs": [],
   "source": [
    "class Drawing:\n",
    "    def __init__(self, shapes: [Shape]):\n",
    "        self._shapes = shapes\n",
    "        \n",
    "    def __repr__(self):\n",
    "        return '<Drawing {}>'.format(str(self._shapes))\n",
    "        \n",
    "    @classmethod\n",
    "    def from_stream(cls, stream, shape_factory):\n",
    "        shapes = []\n",
    "        for line in stream:\n",
    "            line = line.strip()\n",
    "            if not line:\n",
    "                continue\n",
    "            shape_name, *parameters = line.split()\n",
    "            parameters = map(int, parameters)\n",
    "            try:\n",
    "                shape_creator = shape_factory[shape_name]\n",
    "            except KeyError:\n",
    "                raise TypeError\n",
    "            else:\n",
    "                shape = shape_creator(*parameters)\n",
    "            shapes.append(shape)\n",
    "        return cls(shapes)"
   ]
  },
  {
   "cell_type": "code",
   "execution_count": 17,
   "metadata": {
    "hidden": true,
    "scrolled": true
   },
   "outputs": [
    {
     "data": {
      "text/plain": [
       "<Drawing [Circle x=15 y=10 r=14, Rectangle x=30 y=30 w=100 h=150, Circle x=40 y=20 r=5, Rectangle x=30 y=100 w=20 h=20]>"
      ]
     },
     "execution_count": 17,
     "metadata": {},
     "output_type": "execute_result"
    }
   ],
   "source": [
    "Drawing.from_stream(StringIO(raw_shapes), shape_factory)"
   ]
  },
  {
   "cell_type": "markdown",
   "metadata": {
    "hidden": true
   },
   "source": [
    "### Rozwiązanie z Factory Method i użyciem `Shape.__subclasses__`"
   ]
  },
  {
   "cell_type": "code",
   "execution_count": 40,
   "metadata": {
    "collapsed": true,
    "hidden": true
   },
   "outputs": [],
   "source": [
    "class Shape:\n",
    "    def __init__(self, x, y):\n",
    "        self.x = x\n",
    "        self.y = y\n",
    "        \n",
    "    @classmethod\n",
    "    def create_factory(cls):\n",
    "        shape_factory = {}\n",
    "        for subclass in cls.__subclasses__():\n",
    "            shape_factory[subclass.__name__] = subclass\n",
    "            # recurse if you want to include subsubclasses and so on\n",
    "            # shape_factory.update(subclass.create_factory())\n",
    "        return shape_factory\n",
    "        \n",
    "class Circle(Shape):\n",
    "    def __init__(self, x, y, r):\n",
    "        super().__init__(x, y)\n",
    "        self.r = r\n",
    "        \n",
    "    def __repr__(self):\n",
    "        return 'Circle x={} y={} r={}'.format(self.x, self.y, self.r)\n",
    "        \n",
    "class Rectangle(Shape):\n",
    "    def __init__(self, x, y, w, h):\n",
    "        super().__init__(x, y)\n",
    "        self.w = w\n",
    "        self.h = h\n",
    "    def __repr__(self):\n",
    "        return 'Rectangle x={} y={} w={} h={}'.format(self.x, self.y, self.w, self.h)\n",
    "    \n",
    "class Square(Shape):\n",
    "    def __new__(cls, x, y, a):\n",
    "        return Rectangle(x, y, a, a)"
   ]
  },
  {
   "cell_type": "code",
   "execution_count": 41,
   "metadata": {},
   "outputs": [
    {
     "data": {
      "text/plain": [
       "{'Circle': __main__.Circle,\n",
       " 'Rectangle': __main__.Rectangle,\n",
       " 'Square': __main__.Square}"
      ]
     },
     "execution_count": 41,
     "metadata": {},
     "output_type": "execute_result"
    }
   ],
   "source": [
    "Shape.create_factory()"
   ]
  },
  {
   "cell_type": "code",
   "execution_count": 30,
   "metadata": {
    "collapsed": true,
    "hidden": true
   },
   "outputs": [],
   "source": [
    "class Drawing:\n",
    "    def __init__(self, shapes: [Shape]):\n",
    "        self._shapes = shapes\n",
    "        \n",
    "    def __repr__(self):\n",
    "        return '<Drawing {}>'.format(str(self._shapes))\n",
    "        \n",
    "    @classmethod\n",
    "    def from_stream(cls, stream):\n",
    "        shape_factory = Shape.create_factory()\n",
    "        shapes = []\n",
    "        for line in stream:\n",
    "            line = line.strip()\n",
    "            if not line:\n",
    "                continue\n",
    "            shape_name, *parameters = line.split()\n",
    "            parameters = map(int, parameters)\n",
    "            try:\n",
    "                shape_creator = shape_factory[shape_name]\n",
    "            except KeyError:\n",
    "                raise TypeError\n",
    "            else:\n",
    "                shape = shape_creator(*parameters)\n",
    "            shapes.append(shape)\n",
    "        return cls(shapes)"
   ]
  },
  {
   "cell_type": "code",
   "execution_count": 31,
   "metadata": {
    "hidden": true
   },
   "outputs": [
    {
     "data": {
      "text/plain": [
       "<Drawing [Circle x=15 y=10 r=14, Rectangle x=30 y=30 w=100 h=150, Circle x=40 y=20 r=5, Rectangle x=30 y=100 w=20 h=20]>"
      ]
     },
     "execution_count": 31,
     "metadata": {},
     "output_type": "execute_result"
    }
   ],
   "source": [
    "Drawing.from_stream(StringIO(raw_shapes))"
   ]
  },
  {
   "cell_type": "code",
   "execution_count": null,
   "metadata": {
    "collapsed": true
   },
   "outputs": [],
   "source": []
  }
 ],
 "metadata": {
  "kernelspec": {
   "display_name": "Python 3",
   "language": "python",
   "name": "python3"
  },
  "language_info": {
   "codemirror_mode": {
    "name": "ipython",
    "version": 3
   },
   "file_extension": ".py",
   "mimetype": "text/x-python",
   "name": "python",
   "nbconvert_exporter": "python",
   "pygments_lexer": "ipython3",
   "version": "3.5.3"
  },
  "toc": {
   "nav_menu": {},
   "number_sections": true,
   "sideBar": true,
   "skip_h1_title": false,
   "toc_cell": false,
   "toc_position": {},
   "toc_section_display": "block",
   "toc_window_display": false
  }
 },
 "nbformat": 4,
 "nbformat_minor": 2
}
