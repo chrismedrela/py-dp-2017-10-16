{
 "cells": [
  {
   "cell_type": "markdown",
   "metadata": {},
   "source": [
    "# State (stan)"
   ]
  },
  {
   "cell_type": "markdown",
   "metadata": {},
   "source": [
    "### Zła implementacja (bez użycia wzorca stanu)"
   ]
  },
  {
   "cell_type": "code",
   "execution_count": 2,
   "metadata": {
    "collapsed": true
   },
   "outputs": [],
   "source": [
    "class Turnstile(object):\n",
    "    def __init__(self):\n",
    "        self._state = 'locked'\n",
    "        \n",
    "    def coin(self):\n",
    "        if self._state == 'locked':\n",
    "            self.unlock()\n",
    "            self._state = 'unlocked'\n",
    "        else:  # self._state == 'unlocked'\n",
    "            self.display('Thank you')\n",
    "            \n",
    "    def pass_(self):\n",
    "        if self._state == 'locked':\n",
    "            self.alarm()\n",
    "        else:  # self._state == 'unlocked'\n",
    "            self.lock()\n",
    "            self._state = 'locked'\n",
    "            \n",
    "    def unlock(self):\n",
    "        print('unlocking turnstile')\n",
    "        \n",
    "    def lock(self):\n",
    "        print('locking turnstile')\n",
    "        \n",
    "    def alarm(self):\n",
    "        print('alarm!')\n",
    "        \n",
    "    def display(self, text):\n",
    "        print('>>> {} <<<'.format(text))"
   ]
  },
  {
   "cell_type": "code",
   "execution_count": 3,
   "metadata": {},
   "outputs": [
    {
     "name": "stdout",
     "output_type": "stream",
     "text": [
      "unlocking turnstile\n",
      "locking turnstile\n",
      "alarm!\n",
      "unlocking turnstile\n",
      "locking turnstile\n",
      "unlocking turnstile\n",
      ">>> Thank you <<<\n",
      ">>> Thank you <<<\n"
     ]
    }
   ],
   "source": [
    "t = Turnstile()\n",
    "t.coin()\n",
    "t.pass_()\n",
    "t.pass_()\n",
    "t.coin()\n",
    "t.pass_()\n",
    "t.coin()\n",
    "t.coin()\n",
    "t.coin()"
   ]
  },
  {
   "cell_type": "markdown",
   "metadata": {},
   "source": [
    "### Dobra implementacja (z użyciem wzorca stanu)"
   ]
  },
  {
   "cell_type": "code",
   "execution_count": 4,
   "metadata": {
    "collapsed": true
   },
   "outputs": [],
   "source": [
    "class LockedState(object):\n",
    "    def __init__(self, turnstile):\n",
    "        self._turnstile = turnstile\n",
    "        \n",
    "    def coin(self):\n",
    "        self._turnstile.unlock()\n",
    "        self._turnstile.set_state(UnlockedState)\n",
    "        \n",
    "    def pass_(self):\n",
    "        self._turnstile.alarm()\n",
    "        \n",
    "\n",
    "class UnlockedState(object):\n",
    "    def __init__(self, turnstile):\n",
    "        self._turnstile = turnstile\n",
    "        \n",
    "    def coin(self):\n",
    "        self._turnstile.display('Thank you')\n",
    "        \n",
    "    def pass_(self):\n",
    "        self._turnstile.lock()\n",
    "        self._turnstile.set_state(LockedState)\n",
    "\n",
    "\n",
    "class Turnstile(object):\n",
    "    def __init__(self):\n",
    "        self.set_state(LockedState)\n",
    "        \n",
    "    def coin(self):\n",
    "        self._state.coin()\n",
    "            \n",
    "    def pass_(self):\n",
    "        self._state.pass_()\n",
    "            \n",
    "    def set_state(self, state_cls):\n",
    "        self._state = state_cls(self)\n",
    "            \n",
    "    def unlock(self):\n",
    "        print('unlocking turnstile')\n",
    "        \n",
    "    def lock(self):\n",
    "        print('locking turnstile')\n",
    "        \n",
    "    def alarm(self):\n",
    "        print('alarm!')\n",
    "        \n",
    "    def display(self, text):\n",
    "        print('>>> {} <<<'.format(text))"
   ]
  },
  {
   "cell_type": "code",
   "execution_count": 5,
   "metadata": {},
   "outputs": [
    {
     "name": "stdout",
     "output_type": "stream",
     "text": [
      "unlocking turnstile\n",
      "locking turnstile\n",
      "alarm!\n",
      "unlocking turnstile\n",
      "locking turnstile\n",
      "unlocking turnstile\n",
      ">>> Thank you <<<\n",
      ">>> Thank you <<<\n"
     ]
    }
   ],
   "source": [
    "t = Turnstile()\n",
    "t.coin()\n",
    "t.pass_()\n",
    "t.pass_()\n",
    "t.coin()\n",
    "t.pass_()\n",
    "t.coin()\n",
    "t.coin()\n",
    "t.coin()"
   ]
  }
 ],
 "metadata": {
  "kernelspec": {
   "display_name": "Python 3",
   "language": "python",
   "name": "python3"
  },
  "language_info": {
   "codemirror_mode": {
    "name": "ipython",
    "version": 3
   },
   "file_extension": ".py",
   "mimetype": "text/x-python",
   "name": "python",
   "nbconvert_exporter": "python",
   "pygments_lexer": "ipython3",
   "version": "3.5.3"
  },
  "toc": {
   "nav_menu": {},
   "number_sections": true,
   "sideBar": true,
   "skip_h1_title": false,
   "toc_cell": false,
   "toc_position": {},
   "toc_section_display": "block",
   "toc_window_display": false
  }
 },
 "nbformat": 4,
 "nbformat_minor": 2
}
