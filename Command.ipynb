{
 "cells": [
  {
   "cell_type": "markdown",
   "metadata": {},
   "source": [
    "# Command (polecenie)"
   ]
  },
  {
   "cell_type": "markdown",
   "metadata": {},
   "source": [
    "# Przykład"
   ]
  },
  {
   "cell_type": "code",
   "execution_count": 1,
   "metadata": {
    "collapsed": true
   },
   "outputs": [],
   "source": [
    "class Screen(object):\n",
    "    def __init__(self, text=''):\n",
    "        self._text = text\n",
    "        self._clipboard = ''\n",
    "        \n",
    "    def cut(self, start=0, end=0):\n",
    "        self._clipboard = self._text[start:end]\n",
    "        self._text = self._text[:start] + self._text[end:]\n",
    "        \n",
    "    def paste(self, offset=0):\n",
    "        self._text = self._text[:offset] + self._clipboard + self._text[offset:]\n",
    "        \n",
    "    def clear_clipboard(self):\n",
    "        self.clipboard = ''\n",
    "        \n",
    "    def __len__(self):\n",
    "        return len(self.text)\n",
    "    \n",
    "    def __repr__(self):\n",
    "        return 'Screen({})'.format(repr(self._text))\n",
    "    "
   ]
  },
  {
   "cell_type": "code",
   "execution_count": 2,
   "metadata": {
    "collapsed": true
   },
   "outputs": [],
   "source": [
    "class ScreenCommand(object):\n",
    "    def __init__(self, screen):\n",
    "        self._screen = screen\n",
    "        \n",
    "    def execute(self):\n",
    "        self._previous_state = screen._text\n",
    "        \n",
    "    def undo(self):\n",
    "        raise NotImplementedError\n",
    "        \n",
    "class CutCommand(ScreenCommand):\n",
    "    def __init__(self, screen, start=0, end=0):\n",
    "        super().__init__(screen)\n",
    "        self._start = start\n",
    "        self._end = end\n",
    "        \n",
    "    def execute(self):\n",
    "        super().execute()\n",
    "        self._screen.cut(start=self._start, end=self._end)\n",
    "        \n",
    "    def undo(self):\n",
    "        self._screen.clear_clipboard()\n",
    "        self._screen._text = self._previous_state\n",
    "        \n",
    "class PasteCommand(ScreenCommand):\n",
    "    def __init__(self, screen, offset=0):\n",
    "        super().__init__(screen)\n",
    "        self._offset = offset\n",
    "        \n",
    "    def execute(self):\n",
    "        super().execute()\n",
    "        self._screen.paste(offset=self._offset)\n",
    "        \n",
    "    def undo(self):\n",
    "        self._screen.clear_clipboard()\n",
    "        self._screen._text = self._previous_state"
   ]
  },
  {
   "cell_type": "code",
   "execution_count": 3,
   "metadata": {
    "collapsed": true
   },
   "outputs": [],
   "source": [
    "screen = Screen('hello world')"
   ]
  },
  {
   "cell_type": "code",
   "execution_count": 4,
   "metadata": {},
   "outputs": [
    {
     "data": {
      "text/plain": [
       "Screen('hello world')"
      ]
     },
     "execution_count": 4,
     "metadata": {},
     "output_type": "execute_result"
    }
   ],
   "source": [
    "screen"
   ]
  },
  {
   "cell_type": "code",
   "execution_count": 5,
   "metadata": {
    "collapsed": true
   },
   "outputs": [],
   "source": [
    "cut_command = CutCommand(screen, start=5, end=11)\n",
    "cut_command.execute()"
   ]
  },
  {
   "cell_type": "code",
   "execution_count": 6,
   "metadata": {},
   "outputs": [
    {
     "data": {
      "text/plain": [
       "Screen('hello')"
      ]
     },
     "execution_count": 6,
     "metadata": {},
     "output_type": "execute_result"
    }
   ],
   "source": [
    "screen"
   ]
  },
  {
   "cell_type": "code",
   "execution_count": 7,
   "metadata": {
    "collapsed": true
   },
   "outputs": [],
   "source": [
    "cut_command.undo()"
   ]
  },
  {
   "cell_type": "code",
   "execution_count": 8,
   "metadata": {
    "scrolled": true
   },
   "outputs": [
    {
     "data": {
      "text/plain": [
       "Screen('hello world')"
      ]
     },
     "execution_count": 8,
     "metadata": {},
     "output_type": "execute_result"
    }
   ],
   "source": [
    "screen"
   ]
  }
 ],
 "metadata": {
  "kernelspec": {
   "display_name": "Python 3",
   "language": "python",
   "name": "python3"
  },
  "language_info": {
   "codemirror_mode": {
    "name": "ipython",
    "version": 3
   },
   "file_extension": ".py",
   "mimetype": "text/x-python",
   "name": "python",
   "nbconvert_exporter": "python",
   "pygments_lexer": "ipython3",
   "version": "3.5.3"
  },
  "toc": {
   "nav_menu": {},
   "number_sections": true,
   "sideBar": true,
   "skip_h1_title": false,
   "toc_cell": false,
   "toc_position": {},
   "toc_section_display": "block",
   "toc_window_display": false
  }
 },
 "nbformat": 4,
 "nbformat_minor": 2
}
